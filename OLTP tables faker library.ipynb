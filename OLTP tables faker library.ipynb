{
 "cells": [
  {
   "cell_type": "code",
   "execution_count": 34,
   "id": "f09939d4",
   "metadata": {},
   "outputs": [],
   "source": [
    "from faker import Faker\n",
    "import datetime\n",
    "import faker_commerce\n",
    "faker = Faker(['en_IN'])\n",
    "faker.add_provider(faker_commerce.Provider)\n",
    "import pandas as pd"
   ]
  },
  {
   "cell_type": "code",
   "execution_count": 2,
   "id": "16edf4ba",
   "metadata": {},
   "outputs": [],
   "source": [
    "import random\n",
    "cities = {'Rajstan':['Jaipur','Udaipur'],'Maharashtra':['Mumbai','Pune','Aurangabad','Nagpur','Nashik'],'Gujarat':['Ahemdabad','Surat','Vadodara','Gandhinagar','Rajkot'],'Karnataka':['Bengaluru','Mangaluru','Hubbali','Mysuru'],'Madhya Pradesh':['Bhopal','Indore'],'West Bengal':['Kolkata','Howrah']}"
   ]
  },
  {
   "cell_type": "code",
   "execution_count": 3,
   "id": "11c59a75",
   "metadata": {},
   "outputs": [
    {
     "name": "stdout",
     "output_type": "stream",
     "text": [
      "Maharashtra\n",
      "Mumbai\n"
     ]
    }
   ],
   "source": [
    "# generated state-city coordinated dictionary\n",
    "st= random.choice(list(cities.keys()))\n",
    "city = random.choice(list(cities[st]))\n",
    "print(st)\n",
    "print(city)"
   ]
  },
  {
   "cell_type": "code",
   "execution_count": 4,
   "id": "0c94b4c4",
   "metadata": {},
   "outputs": [],
   "source": [
    "# creating customer master table\n",
    "\n",
    "import pandas as pd\n",
    "from faker import Faker\n",
    "import datetime\n",
    "import random\n",
    "\n",
    "faker = Faker(['en_IN'])\n",
    "\n",
    "\n",
    "l_names=[]\n",
    "while(len(set(l_names))!=1000):\n",
    "    l_names.append(faker.name())\n",
    "    \n",
    "l_names= set(l_names)\n",
    "len(l_names) \n",
    "\n",
    "# list of names are ready\n",
    "\n",
    "\n",
    "\n",
    "custid = list(range(1,1001))\n",
    "# customerid\n",
    "\n",
    "\n",
    "l_addr=[]\n",
    "while(len(set(l_addr))!=1000):\n",
    "    l_addr.append(faker.street_address())\n",
    "    \n",
    "l_addr= set(l_addr)\n",
    "len(l_addr) \n",
    "\n",
    "# list of street address\n",
    "cities = {'Rajstan':['Jaipur','Udaipur'],'Maharashtra':['Mumbai','Pune','Aurangabad','Nagpur','Nashik'],'Gujarat':['Ahemdabad','Surat','Vadodara','Gandhinagar','Rajkot'],'Karnataka':['Bengaluru','Mangaluru','Hubbali','Mysuru'],'Madhya Pradesh':['Bhopal','Indore'],'West Bengal':['Kolkata','Howrah']}\n",
    "city= []\n",
    "state=[]\n",
    "postalcode=[]\n",
    "for i in range(1,1001):\n",
    "    st = random.choice(list(cities.keys()))\n",
    "    state.append(st)\n",
    "    city.append(random.choice(list(cities[st])))\n",
    "    postalcode.append(faker.postcode())\n",
    "    \n",
    "# state, postalcode, city\n",
    "\n",
    "l_dates=[]\n",
    "while(len(l_dates)!=1000):\n",
    "    d = faker.date_time_between_dates(datetime_start=datetime.date(2022, 2, 9), datetime_end=datetime.date(2022, 6, 9))\n",
    "    l_dates.append(pd.to_datetime(d))\n",
    "    \n",
    "        \n",
    "    \n",
    "l_dates= set(l_dates)\n",
    "len(l_dates) \n",
    "\n",
    "#timestamp\n",
    "\n",
    "\n",
    "\n",
    "customer_master = pd.DataFrame(list(zip(custid,l_names,l_addr,city,state,postalcode,l_dates)),columns =['Customerid','name','address','city','state','pincode','update_timestamp'])\n"
   ]
  },
  {
   "cell_type": "code",
   "execution_count": 5,
   "id": "a0ebe609",
   "metadata": {},
   "outputs": [],
   "source": [
    "import psycopg2\n",
    "\n",
    "#establishing the connection\n",
    "conn = psycopg2.connect(\n",
    "   database=\"oltp\", user='postgres', password='7798748934', host='34.66.167.79', port= '5432'\n",
    ")\n",
    "#Creating a cursor object using the cursor() method\n",
    "cursor = conn.cursor()\n",
    "\n",
    "\n"
   ]
  },
  {
   "cell_type": "code",
   "execution_count": 6,
   "id": "6df32b95",
   "metadata": {},
   "outputs": [],
   "source": [
    "create_table = ''' create table customer_master(\n",
    "                                customerid int primary key,\n",
    "                                name varchar(50),\n",
    "                                address varchar(100),\n",
    "                                city varchar(30),\n",
    "                                state varchar(30),\n",
    "                                pincode int,\n",
    "                                update_timestamp timestamp)'''\n"
   ]
  },
  {
   "cell_type": "code",
   "execution_count": null,
   "id": "c5e1a34d",
   "metadata": {},
   "outputs": [],
   "source": [
    "cursor.execute(create_table)\n",
    "conn.commit()"
   ]
  },
  {
   "cell_type": "code",
   "execution_count": null,
   "id": "a35dbcdc",
   "metadata": {},
   "outputs": [],
   "source": [
    "temp =0\n",
    "for i in range(len(customer_master)):\n",
    "    customerid = int(customer_master['Customerid'].iloc[i])\n",
    "    name = str(customer_master['name'].iloc[i])\n",
    "    address = str(customer_master['address'].iloc[i])\n",
    "    city = str(customer_master['city'].iloc[i])\n",
    "    state = str(customer_master['state'].iloc[i])\n",
    "    pincode = int(customer_master['pincode'].iloc[i])\n",
    "    update_timestamp = str(customer_master['update_timestamp'].iloc[i])\n",
    "    \n",
    "    query = (\"insert into customer_master(customerid,name, address, city, state, pincode, update_timestamp)\"\n",
    "         \"values (%s, %s, %s, %s, %s, %s, %s)\")\n",
    "\n",
    "    val = (customerid,name, address, city, state, pincode, update_timestamp)\n",
    "    cursor.execute(query,val)\n",
    "    conn.commit()\n",
    "    temp = temp + 1\n",
    "    print(temp, \"record inserted\",customerid)"
   ]
  },
  {
   "cell_type": "code",
   "execution_count": 8,
   "id": "e54fbc5e",
   "metadata": {},
   "outputs": [],
   "source": [
    "# creating product_master table\n",
    "from faker import Faker\n",
    "import datetime\n",
    "import faker_commerce\n",
    "faker = Faker(['en_IN'])\n",
    "faker.add_provider(faker_commerce.Provider)\n",
    "\n",
    "prodid = list(range(1,51))  #product id\n",
    "\n",
    "prodcode=[]        # product code\n",
    "sku =[]\n",
    "rate = []\n",
    "isactive = []\n",
    "for i in range(1,51):\n",
    "    prodcode.append('A' + str(\"%02d\" % (i,))) \n",
    "    sku.append(random.randint(2, 15))       # sku\n",
    "    rate.append(random.randint(100, 1500)) \n",
    "    isactive.append(random.choice([True,False]))\n",
    "    \n",
    "l_product=[]\n",
    "while(len(set(l_product))!=50):\n",
    "    l_product.append(faker.ecommerce_name()  )\n",
    "    \n",
    "l_product = set(l_product)\n",
    "                 # list of product are ready\n",
    "\n",
    "\n",
    "#product_master\n",
    "\n",
    "Product_master = pd.DataFrame(list(zip(prodid,prodcode,l_product,sku,rate,isactive)),columns =['productid','productcode','productname','sku','rate','isactive'])\n"
   ]
  },
  {
   "cell_type": "code",
   "execution_count": 9,
   "id": "0ad97ac1",
   "metadata": {},
   "outputs": [],
   "source": [
    "Product_master.to_csv('product_master.csv')"
   ]
  },
  {
   "cell_type": "code",
   "execution_count": 10,
   "id": "b38e2f55",
   "metadata": {},
   "outputs": [],
   "source": [
    "# order detail\n",
    "\n",
    "orderid=[]\n",
    "customerid=[]\n",
    "order_status_update_timestamp =[]\n",
    "order_status = []\n",
    "\n",
    "for i in range(1,20001):\n",
    "    c = random.randint(1,1000)\n",
    "    for j in range(0,3):\n",
    "        orderid.append(i)\n",
    "        customerid.append(c)\n",
    "        order_status.append(['Received','InProgress','Delivered'][j])\n",
    "        \n",
    "        x1=faker.date_time_between_dates(datetime_start=datetime.date(2022, 2, 1), datetime_end=datetime.date(2022, 2, 23))\n",
    "        x2=faker.date_time_between_dates(datetime_start=datetime.date(2022, 3, 1), datetime_end=datetime.date(2022, 3, 24))\n",
    "        x3=faker.date_time_between_dates(datetime_start=datetime.date(2022, 4, 1), datetime_end=datetime.date(2022, 4, 24))\n",
    "        x4=faker.date_time_between_dates(datetime_start=datetime.date(2022, 5, 1), datetime_end=datetime.date(2022, 5, 24))\n",
    "        d1=random.choice([x1,x2,x3,x4])\n",
    "        order_status_update_timestamp.append(pd.to_datetime(d1)) #timestamp\n",
    "        d2 = faker.date_time_between_dates(datetime_start=d1, datetime_end=d1.replace(day = d1.day+3))\n",
    "        order_status_update_timestamp.append(pd.to_datetime(d2)) \n",
    "        d3 = faker.date_time_between_dates(datetime_start=d2, datetime_end=d2.replace(day = d2.day+2))\n",
    "        order_status_update_timestamp.append(pd.to_datetime(d3)) \n",
    "        \n",
    "\n",
    "    \n",
    "order_detail = pd.DataFrame(list(zip(orderid,customerid,order_status_update_timestamp,order_status)),columns =['orderid','customerid','order_status_update_timestamp','order_status'])\n",
    "    "
   ]
  },
  {
   "cell_type": "code",
   "execution_count": 11,
   "id": "bd7af1e5",
   "metadata": {},
   "outputs": [],
   "source": [
    "order_detail.to_csv('order_detail.csv')"
   ]
  },
  {
   "cell_type": "code",
   "execution_count": 12,
   "id": "eb182125",
   "metadata": {},
   "outputs": [],
   "source": [
    "#order items table\n",
    "order_id =[]\n",
    "productid = []\n",
    "qnty = []\n",
    "\n",
    "order_items = pd.DataFrame(columns = ['orderid','productid','quantity'])\n",
    "\n",
    "for i in range(1,20001):\n",
    "    x = list(range(1, 51))     \n",
    "    for j in range(0,random.randint(1,5)):\n",
    "        pri = random.choice(x)\n",
    "        order_id.append(i)\n",
    "        productid.append(pri)\n",
    "        x.remove(pri)\n",
    "        qnty.append(random.randint(1,5))\n",
    "\n",
    "order_details = pd.DataFrame(list(zip(order_id,productid,qnty)),columns=['orderid','productid','quantity'])"
   ]
  },
  {
   "cell_type": "code",
   "execution_count": 13,
   "id": "f48974a3",
   "metadata": {},
   "outputs": [],
   "source": [
    "order_details.to_csv('order_items.csv')"
   ]
  },
  {
   "cell_type": "code",
   "execution_count": 14,
   "id": "1a29cf08",
   "metadata": {},
   "outputs": [],
   "source": [
    "# order detail\n",
    "\n",
    "orderid=[]\n",
    "customerid=[]\n",
    "order_status_update_timestamp =[]\n",
    "order_status = []\n",
    "\n",
    "for i in range(1,20001):\n",
    "    c = random.randint(1,1000)\n",
    "    for j in range(0,3):\n",
    "        orderid.append(i)\n",
    "        customerid.append(c)\n",
    "        order_status.append(['Received','InProgress','Delivered'][j])\n",
    "        \n",
    "        x1=faker.date_time_between_dates(datetime_start=datetime.date(2022, 2, 1), datetime_end=datetime.date(2022, 2, 23))\n",
    "        x2=faker.date_time_between_dates(datetime_start=datetime.date(2022, 3, 1), datetime_end=datetime.date(2022, 3, 24))\n",
    "        x3=faker.date_time_between_dates(datetime_start=datetime.date(2022, 4, 1), datetime_end=datetime.date(2022, 4, 24))\n",
    "        x4=faker.date_time_between_dates(datetime_start=datetime.date(2022, 5, 1), datetime_end=datetime.date(2022, 5, 24))\n",
    "        d1=random.choice([x1,x2,x3,x4])\n",
    "        order_status_update_timestamp.append(pd.to_datetime(d1)) #timestamp\n",
    "        d2 = faker.date_time_between_dates(datetime_start=d1, datetime_end=d1.replace(day = d1.day+3))\n",
    "        order_status_update_timestamp.append(pd.to_datetime(d2)) \n",
    "        d3 = faker.date_time_between_dates(datetime_start=d2, datetime_end=d2.replace(day = d2.day+2))\n",
    "        order_status_update_timestamp.append(pd.to_datetime(d3)) \n",
    "        \n",
    "\n",
    "    \n",
    "order_detail = pd.DataFrame(list(zip(orderid,customerid,order_status_update_timestamp,order_status)),columns =['orderid','customerid','order_status_update_timestamp','order_status'])\n",
    "    "
   ]
  },
  {
   "cell_type": "code",
   "execution_count": 15,
   "id": "a765fd38",
   "metadata": {},
   "outputs": [],
   "source": [
    "order_detail.to_csv('order')"
   ]
  },
  {
   "cell_type": "code",
   "execution_count": 36,
   "id": "616596b7",
   "metadata": {},
   "outputs": [],
   "source": [
    "# generating 5000 more orders\n",
    "\n",
    "# order detail\n",
    "\n",
    "orderid=[]\n",
    "customerid=[]\n",
    "order_status_update_timestamp =[]\n",
    "order_status = []\n",
    "\n",
    "for i in range(25001,30001):\n",
    "    c = random.randint(1,1000)\n",
    "    for j in range(0,3):\n",
    "        orderid.append(i)\n",
    "        customerid.append(c)\n",
    "        order_status.append(['Received','InProgress','Delivered'][j])\n",
    "        \n",
    "        x1=faker.date_time_between_dates(datetime_start=datetime.date(2022, 2, 1), datetime_end=datetime.date(2022, 2, 23))\n",
    "        x2=faker.date_time_between_dates(datetime_start=datetime.date(2022, 3, 1), datetime_end=datetime.date(2022, 3, 24))\n",
    "        x3=faker.date_time_between_dates(datetime_start=datetime.date(2022, 4, 1), datetime_end=datetime.date(2022, 4, 24))\n",
    "        x4=faker.date_time_between_dates(datetime_start=datetime.date(2022, 5, 1), datetime_end=datetime.date(2022, 5, 24))\n",
    "        d1=random.choice([x1,x2,x3,x4])\n",
    "        order_status_update_timestamp.append(pd.to_datetime(d1)) #timestamp\n",
    "        d2 = faker.date_time_between_dates(datetime_start=d1, datetime_end=d1.replace(day = d1.day+3))\n",
    "        order_status_update_timestamp.append(pd.to_datetime(d2)) \n",
    "        d3 = faker.date_time_between_dates(datetime_start=d2, datetime_end=d2.replace(day = d2.day+2))\n",
    "        order_status_update_timestamp.append(pd.to_datetime(d3)) \n",
    "        \n",
    "order_detail1 = pd.DataFrame(list(zip(orderid,customerid,order_status_update_timestamp,order_status)),columns =['orderid','customerid','order_status_update_timestamp','order_status'])"
   ]
  },
  {
   "cell_type": "code",
   "execution_count": 37,
   "id": "bd14c3c9",
   "metadata": {},
   "outputs": [],
   "source": [
    "order_detail1.to_csv(\"order_details_+5000.csv\")"
   ]
  },
  {
   "cell_type": "code",
   "execution_count": 38,
   "id": "1f59d8ea",
   "metadata": {},
   "outputs": [],
   "source": [
    "#order items table\n",
    "order_id =[]\n",
    "productid = []\n",
    "qnty = []\n",
    "\n",
    "order_items = pd.DataFrame(columns = ['orderid','productid','quantity'])\n",
    "\n",
    "for i in range(25001,30001):\n",
    "    x = list(range(1, 51))     \n",
    "    for j in range(0,random.randint(1,5)):\n",
    "        pri = random.choice(x)\n",
    "        order_id.append(i)\n",
    "        productid.append(pri)\n",
    "        x.remove(pri)\n",
    "        qnty.append(random.randint(1,5))\n",
    "\n",
    "order_items1 = pd.DataFrame(list(zip(order_id,productid,qnty)),columns=['orderid','productid','quantity'])"
   ]
  },
  {
   "cell_type": "code",
   "execution_count": 39,
   "id": "53d656a4",
   "metadata": {},
   "outputs": [],
   "source": [
    "order_items1.to_csv(\"order_items_+5000.csv\")"
   ]
  },
  {
   "cell_type": "code",
   "execution_count": null,
   "id": "eff3b4d2",
   "metadata": {},
   "outputs": [],
   "source": []
  },
  {
   "cell_type": "code",
   "execution_count": null,
   "id": "8896d908",
   "metadata": {},
   "outputs": [],
   "source": []
  },
  {
   "cell_type": "code",
   "execution_count": null,
   "id": "b93450ac",
   "metadata": {},
   "outputs": [],
   "source": []
  },
  {
   "cell_type": "code",
   "execution_count": null,
   "id": "b54b14e8",
   "metadata": {},
   "outputs": [],
   "source": []
  },
  {
   "cell_type": "code",
   "execution_count": null,
   "id": "4558ddb7",
   "metadata": {},
   "outputs": [],
   "source": []
  },
  {
   "cell_type": "code",
   "execution_count": null,
   "id": "ba868184",
   "metadata": {},
   "outputs": [],
   "source": []
  }
 ],
 "metadata": {
  "kernelspec": {
   "display_name": "Python 3 (ipykernel)",
   "language": "python",
   "name": "python3"
  },
  "language_info": {
   "codemirror_mode": {
    "name": "ipython",
    "version": 3
   },
   "file_extension": ".py",
   "mimetype": "text/x-python",
   "name": "python",
   "nbconvert_exporter": "python",
   "pygments_lexer": "ipython3",
   "version": "3.10.2"
  }
 },
 "nbformat": 4,
 "nbformat_minor": 5
}
